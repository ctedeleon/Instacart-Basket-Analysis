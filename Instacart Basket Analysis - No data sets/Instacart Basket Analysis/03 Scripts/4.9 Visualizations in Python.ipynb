{
 "cells": [
  {
   "cell_type": "markdown",
   "id": "43d6437d",
   "metadata": {},
   "source": [
    "# Import libraries: pandas, numpy, seaborn, matplotlib, and scipy "
   ]
  },
  {
   "cell_type": "code",
   "execution_count": 1,
   "id": "8fd292a2",
   "metadata": {},
   "outputs": [],
   "source": [
    "import pandas as pd\n",
    "import numpy as np \n",
    "import os \n",
    "import seaborn as sns \n",
    "import matplotlib.pyplot as plt\n",
    "import scipy \n"
   ]
  },
  {
   "cell_type": "markdown",
   "id": "958a8c9d",
   "metadata": {},
   "source": [
    "# Import merged data set "
   ]
  },
  {
   "cell_type": "code",
   "execution_count": 2,
   "id": "b21f23e4",
   "metadata": {},
   "outputs": [],
   "source": [
    "path = r'C:\\Users\\ctede\\OneDrive\\Desktop\\Instacart Basket Analysis'\n",
    "ords_prods_merge = pd.read_pickle(os.path.join(path, '02 Data', 'Prepared Data', 'COPY_orders_products_new_columns.pkl'))\n",
    "df = pd.read_pickle(os.path.join(path, '02 Data', 'Prepared Data', 'orders_products_new_columns.pkl'))"
   ]
  },
  {
   "cell_type": "markdown",
   "id": "f061f5b9",
   "metadata": {},
   "source": [
    "# Bar Chart - orders_day_of_week "
   ]
  },
  {
   "cell_type": "code",
   "execution_count": 7,
   "id": "4d744472",
   "metadata": {},
   "outputs": [
    {
     "data": {
      "text/html": [
       "<div>\n",
       "<style scoped>\n",
       "    .dataframe tbody tr th:only-of-type {\n",
       "        vertical-align: middle;\n",
       "    }\n",
       "\n",
       "    .dataframe tbody tr th {\n",
       "        vertical-align: top;\n",
       "    }\n",
       "\n",
       "    .dataframe thead th {\n",
       "        text-align: right;\n",
       "    }\n",
       "</style>\n",
       "<table border=\"1\" class=\"dataframe\">\n",
       "  <thead>\n",
       "    <tr style=\"text-align: right;\">\n",
       "      <th></th>\n",
       "      <th>order_id</th>\n",
       "      <th>customer_id</th>\n",
       "      <th>order_number</th>\n",
       "      <th>order_dow</th>\n",
       "      <th>order_hour_of_day</th>\n",
       "      <th>days_since_prior_order</th>\n",
       "      <th>product_id</th>\n",
       "      <th>add_to_cart_order</th>\n",
       "      <th>reordered</th>\n",
       "      <th>_merge</th>\n",
       "      <th>...</th>\n",
       "      <th>price_range_loc</th>\n",
       "      <th>busiest_day</th>\n",
       "      <th>new_busiest_days</th>\n",
       "      <th>busiest_period_of_day</th>\n",
       "      <th>max_order</th>\n",
       "      <th>loyalty_flag</th>\n",
       "      <th>avg_order_price</th>\n",
       "      <th>spending_flag</th>\n",
       "      <th>order_frequency</th>\n",
       "      <th>order_freq_flag</th>\n",
       "    </tr>\n",
       "  </thead>\n",
       "  <tbody>\n",
       "    <tr>\n",
       "      <th>0</th>\n",
       "      <td>2539329</td>\n",
       "      <td>1</td>\n",
       "      <td>1</td>\n",
       "      <td>2</td>\n",
       "      <td>8</td>\n",
       "      <td>0.0</td>\n",
       "      <td>196</td>\n",
       "      <td>1</td>\n",
       "      <td>0</td>\n",
       "      <td>both</td>\n",
       "      <td>...</td>\n",
       "      <td>Mid-range product</td>\n",
       "      <td>Regularly busy</td>\n",
       "      <td>Regularly busy</td>\n",
       "      <td>Average orders</td>\n",
       "      <td>10</td>\n",
       "      <td>New customer</td>\n",
       "      <td>6.367797</td>\n",
       "      <td>Low spender</td>\n",
       "      <td>20.0</td>\n",
       "      <td>Regular customer</td>\n",
       "    </tr>\n",
       "    <tr>\n",
       "      <th>1</th>\n",
       "      <td>2398795</td>\n",
       "      <td>1</td>\n",
       "      <td>2</td>\n",
       "      <td>3</td>\n",
       "      <td>7</td>\n",
       "      <td>15.0</td>\n",
       "      <td>196</td>\n",
       "      <td>1</td>\n",
       "      <td>1</td>\n",
       "      <td>both</td>\n",
       "      <td>...</td>\n",
       "      <td>Mid-range product</td>\n",
       "      <td>Regularly busy</td>\n",
       "      <td>Slowest days</td>\n",
       "      <td>Average orders</td>\n",
       "      <td>10</td>\n",
       "      <td>New customer</td>\n",
       "      <td>6.367797</td>\n",
       "      <td>Low spender</td>\n",
       "      <td>20.0</td>\n",
       "      <td>Regular customer</td>\n",
       "    </tr>\n",
       "    <tr>\n",
       "      <th>2</th>\n",
       "      <td>473747</td>\n",
       "      <td>1</td>\n",
       "      <td>3</td>\n",
       "      <td>3</td>\n",
       "      <td>12</td>\n",
       "      <td>21.0</td>\n",
       "      <td>196</td>\n",
       "      <td>1</td>\n",
       "      <td>1</td>\n",
       "      <td>both</td>\n",
       "      <td>...</td>\n",
       "      <td>Mid-range product</td>\n",
       "      <td>Regularly busy</td>\n",
       "      <td>Slowest days</td>\n",
       "      <td>Most orders</td>\n",
       "      <td>10</td>\n",
       "      <td>New customer</td>\n",
       "      <td>6.367797</td>\n",
       "      <td>Low spender</td>\n",
       "      <td>20.0</td>\n",
       "      <td>Regular customer</td>\n",
       "    </tr>\n",
       "    <tr>\n",
       "      <th>3</th>\n",
       "      <td>2254736</td>\n",
       "      <td>1</td>\n",
       "      <td>4</td>\n",
       "      <td>4</td>\n",
       "      <td>7</td>\n",
       "      <td>29.0</td>\n",
       "      <td>196</td>\n",
       "      <td>1</td>\n",
       "      <td>1</td>\n",
       "      <td>both</td>\n",
       "      <td>...</td>\n",
       "      <td>Mid-range product</td>\n",
       "      <td>Least busy</td>\n",
       "      <td>Slowest days</td>\n",
       "      <td>Average orders</td>\n",
       "      <td>10</td>\n",
       "      <td>New customer</td>\n",
       "      <td>6.367797</td>\n",
       "      <td>Low spender</td>\n",
       "      <td>20.0</td>\n",
       "      <td>Regular customer</td>\n",
       "    </tr>\n",
       "    <tr>\n",
       "      <th>4</th>\n",
       "      <td>431534</td>\n",
       "      <td>1</td>\n",
       "      <td>5</td>\n",
       "      <td>4</td>\n",
       "      <td>15</td>\n",
       "      <td>28.0</td>\n",
       "      <td>196</td>\n",
       "      <td>1</td>\n",
       "      <td>1</td>\n",
       "      <td>both</td>\n",
       "      <td>...</td>\n",
       "      <td>Mid-range product</td>\n",
       "      <td>Least busy</td>\n",
       "      <td>Slowest days</td>\n",
       "      <td>Most orders</td>\n",
       "      <td>10</td>\n",
       "      <td>New customer</td>\n",
       "      <td>6.367797</td>\n",
       "      <td>Low spender</td>\n",
       "      <td>20.0</td>\n",
       "      <td>Regular customer</td>\n",
       "    </tr>\n",
       "  </tbody>\n",
       "</table>\n",
       "<p>5 rows × 24 columns</p>\n",
       "</div>"
      ],
      "text/plain": [
       "  order_id  customer_id  order_number order_dow  order_hour_of_day  \\\n",
       "0  2539329            1             1         2                  8   \n",
       "1  2398795            1             2         3                  7   \n",
       "2   473747            1             3         3                 12   \n",
       "3  2254736            1             4         4                  7   \n",
       "4   431534            1             5         4                 15   \n",
       "\n",
       "   days_since_prior_order  product_id  add_to_cart_order  reordered _merge  \\\n",
       "0                     0.0         196                  1          0   both   \n",
       "1                    15.0         196                  1          1   both   \n",
       "2                    21.0         196                  1          1   both   \n",
       "3                    29.0         196                  1          1   both   \n",
       "4                    28.0         196                  1          1   both   \n",
       "\n",
       "   ...    price_range_loc     busiest_day  new_busiest_days  \\\n",
       "0  ...  Mid-range product  Regularly busy    Regularly busy   \n",
       "1  ...  Mid-range product  Regularly busy      Slowest days   \n",
       "2  ...  Mid-range product  Regularly busy      Slowest days   \n",
       "3  ...  Mid-range product      Least busy      Slowest days   \n",
       "4  ...  Mid-range product      Least busy      Slowest days   \n",
       "\n",
       "   busiest_period_of_day max_order  loyalty_flag avg_order_price  \\\n",
       "0         Average orders        10  New customer        6.367797   \n",
       "1         Average orders        10  New customer        6.367797   \n",
       "2            Most orders        10  New customer        6.367797   \n",
       "3         Average orders        10  New customer        6.367797   \n",
       "4            Most orders        10  New customer        6.367797   \n",
       "\n",
       "  spending_flag  order_frequency   order_freq_flag  \n",
       "0   Low spender             20.0  Regular customer  \n",
       "1   Low spender             20.0  Regular customer  \n",
       "2   Low spender             20.0  Regular customer  \n",
       "3   Low spender             20.0  Regular customer  \n",
       "4   Low spender             20.0  Regular customer  \n",
       "\n",
       "[5 rows x 24 columns]"
      ]
     },
     "execution_count": 7,
     "metadata": {},
     "output_type": "execute_result"
    }
   ],
   "source": [
    "ords_prods_merge.head()"
   ]
  },
  {
   "cell_type": "code",
   "execution_count": 8,
   "id": "af34de4d",
   "metadata": {},
   "outputs": [
    {
     "data": {
      "text/plain": [
       "<AxesSubplot:>"
      ]
     },
     "execution_count": 8,
     "metadata": {},
     "output_type": "execute_result"
    },
    {
     "data": {
      "image/png": "[encoded data removed]",
      "text/plain": [
       "<Figure size 640x480 with 1 Axes>"
      ]
     },
     "metadata": {},
     "output_type": "display_data"
    }
   ],
   "source": [
    "ords_prods_merge['order_dow'].value_counts().plot.bar()\n",
    "#plot.bar() function tells Python to find the bar() function within the plot module.\n",
    "#Always make sure to run this function on the frequency of the column, not the actual column itselt (costs time)"
   ]
  },
  {
   "cell_type": "markdown",
   "id": "58f14c51",
   "metadata": {},
   "source": [
    "### Observations are ordered from largest to smallest, allows you to quickly determine the largest and smallest categories. If want to change this, then use sort_index() before the plot.bar() function. Will see the days of the week category in numerical order instead. Can also use the sort_index() function on the table of values for the frequencies. "
   ]
  },
  {
   "cell_type": "code",
   "execution_count": 9,
   "id": "3c2f9d0e",
   "metadata": {},
   "outputs": [
    {
     "data": {
      "text/plain": [
       "<AxesSubplot:>"
      ]
     },
     "execution_count": 9,
     "metadata": {},
     "output_type": "execute_result"
    },
    {
     "data": {
      "image/png": "[encoded data removed]",
      "text/plain": [
       "<Figure size 640x480 with 1 Axes>"
      ]
     },
     "metadata": {},
     "output_type": "display_data"
    }
   ],
   "source": [
    "#Using sort_index()\n",
    "ords_prods_merge['order_dow'].value_counts().sort_index().plot.bar()"
   ]
  },
  {
   "cell_type": "code",
   "execution_count": 11,
   "id": "8b5b251d",
   "metadata": {},
   "outputs": [
    {
     "data": {
      "image/png": "[encoded data removed]",
      "text/plain": [
       "<Figure size 640x480 with 1 Axes>"
      ]
     },
     "metadata": {},
     "output_type": "display_data"
    }
   ],
   "source": [
    "#Change the colors of the bars using the color argument in the plot.bar() function \n",
    "#Saved the bar chart as \"bar\" object\n",
    "bar = ords_prods_merge['order_dow'].value_counts().sort_index().plot.bar(color=['purple','red','pink','orange','yellow','green','blue'])"
   ]
  },
  {
   "cell_type": "code",
   "execution_count": 14,
   "id": "0aa36a7b",
   "metadata": {},
   "outputs": [],
   "source": [
    "#Export the bar chart into an image file \n",
    "bar.figure.savefig(os.path.join(path, '04 Analysis', 'Visualizations', 'bar_orders_dow.png'))\n",
    "#Needed to manually create a new folder in the 04 Analysis folder or else get an error message. "
   ]
  },
  {
   "cell_type": "markdown",
   "id": "9ed4c2e2",
   "metadata": {},
   "source": [
    "# Histogram - prices column"
   ]
  },
  {
   "cell_type": "code",
   "execution_count": 15,
   "id": "84b093f9",
   "metadata": {},
   "outputs": [
    {
     "data": {
      "text/plain": [
       "<AxesSubplot:ylabel='Frequency'>"
      ]
     },
     "execution_count": 15,
     "metadata": {},
     "output_type": "execute_result"
    },
    {
     "data": {
      "image/png": "[encoded data removed]",
      "text/plain": [
       "<Figure size 640x480 with 1 Axes>"
      ]
     },
     "metadata": {},
     "output_type": "display_data"
    }
   ],
   "source": [
    "ords_prods_merge['prices'].plot.hist(bins=25)\n",
    "#bins argument is how to determine the granularity of the histogram \n",
    "#smaller number of bins = denser bars and larger number of bins = sparser bars"
   ]
  },
  {
   "cell_type": "code",
   "execution_count": 16,
   "id": "d72f8e8e",
   "metadata": {},
   "outputs": [
    {
     "data": {
      "text/plain": [
       "count    3.240486e+07\n",
       "mean     1.198023e+01\n",
       "std      4.956554e+02\n",
       "min      1.000000e+00\n",
       "25%      4.200000e+00\n",
       "50%      7.400000e+00\n",
       "75%      1.130000e+01\n",
       "max      9.999900e+04\n",
       "Name: prices, dtype: float64"
      ]
     },
     "execution_count": 16,
     "metadata": {},
     "output_type": "execute_result"
    }
   ],
   "source": [
    "#Integrity check \n",
    "ords_prods_merge['prices'].describe()"
   ]
  },
  {
   "cell_type": "code",
   "execution_count": 17,
   "id": "7413059e",
   "metadata": {},
   "outputs": [
    {
     "data": {
      "text/plain": [
       "99999.0"
      ]
     },
     "execution_count": 17,
     "metadata": {},
     "output_type": "execute_result"
    }
   ],
   "source": [
    "#Check the maximum value\n",
    "ords_prods_merge['prices'].max()"
   ]
  },
  {
   "cell_type": "markdown",
   "id": "f9086509",
   "metadata": {},
   "source": [
    "### The mean and median are between 7 and 12 (realistic prices) and the max value is strange. How could an item cost $99,999.00$ dollars? This is forcing the histogram to shove all the values into one bar instead of 25. Can create a scatterplot to explore further the relationship between two variables. "
   ]
  },
  {
   "cell_type": "code",
   "execution_count": 20,
   "id": "dd748532",
   "metadata": {},
   "outputs": [
    {
     "data": {
      "text/plain": [
       "<AxesSubplot:xlabel='prices', ylabel='prices'>"
      ]
     },
     "execution_count": 20,
     "metadata": {},
     "output_type": "execute_result"
    },
    {
     "data": {
      "image/png": "[encoded data removed]",
      "text/plain": [
       "<Figure size 640x480 with 1 Axes>"
      ]
     },
     "metadata": {},
     "output_type": "display_data"
    }
   ],
   "source": [
    "#Plot prices column against itself to find outliers\n",
    "sns.scatterplot(x = 'prices', y = 'prices',data = ords_prods_merge)"
   ]
  },
  {
   "cell_type": "markdown",
   "id": "6933acb7",
   "metadata": {},
   "source": [
    "### Scatter plot function from the seaborn library: within the () include arguments in the form of the axes. The mean of the column is around 12, so we expect to see data points distributed around this number. BUT there are two data points near 20,000 and 100000. The 100000 corresponds to the max value observed. Where is the 20,000 coming from? "
   ]
  },
  {
   "cell_type": "code",
   "execution_count": 21,
   "id": "08671cb0",
   "metadata": {},
   "outputs": [
    {
     "data": {
      "text/html": [
       "<div>\n",
       "<style scoped>\n",
       "    .dataframe tbody tr th:only-of-type {\n",
       "        vertical-align: middle;\n",
       "    }\n",
       "\n",
       "    .dataframe tbody tr th {\n",
       "        vertical-align: top;\n",
       "    }\n",
       "\n",
       "    .dataframe thead th {\n",
       "        text-align: right;\n",
       "    }\n",
       "</style>\n",
       "<table border=\"1\" class=\"dataframe\">\n",
       "  <thead>\n",
       "    <tr style=\"text-align: right;\">\n",
       "      <th></th>\n",
       "      <th>order_id</th>\n",
       "      <th>customer_id</th>\n",
       "      <th>order_number</th>\n",
       "      <th>order_dow</th>\n",
       "      <th>order_hour_of_day</th>\n",
       "      <th>days_since_prior_order</th>\n",
       "      <th>product_id</th>\n",
       "      <th>add_to_cart_order</th>\n",
       "      <th>reordered</th>\n",
       "      <th>_merge</th>\n",
       "      <th>...</th>\n",
       "      <th>price_range_loc</th>\n",
       "      <th>busiest_day</th>\n",
       "      <th>new_busiest_days</th>\n",
       "      <th>busiest_period_of_day</th>\n",
       "      <th>max_order</th>\n",
       "      <th>loyalty_flag</th>\n",
       "      <th>avg_order_price</th>\n",
       "      <th>spending_flag</th>\n",
       "      <th>order_frequency</th>\n",
       "      <th>order_freq_flag</th>\n",
       "    </tr>\n",
       "  </thead>\n",
       "  <tbody>\n",
       "    <tr>\n",
       "      <th>10030345</th>\n",
       "      <td>912404</td>\n",
       "      <td>17</td>\n",
       "      <td>12</td>\n",
       "      <td>2</td>\n",
       "      <td>14</td>\n",
       "      <td>5.0</td>\n",
       "      <td>21553</td>\n",
       "      <td>5</td>\n",
       "      <td>0</td>\n",
       "      <td>both</td>\n",
       "      <td>...</td>\n",
       "      <td>High-range product</td>\n",
       "      <td>Regularly busy</td>\n",
       "      <td>Regularly busy</td>\n",
       "      <td>Most orders</td>\n",
       "      <td>40</td>\n",
       "      <td>Regular customer</td>\n",
       "      <td>108.648299</td>\n",
       "      <td>High spender</td>\n",
       "      <td>5.0</td>\n",
       "      <td>Freqeunt customer</td>\n",
       "    </tr>\n",
       "    <tr>\n",
       "      <th>10030346</th>\n",
       "      <td>603376</td>\n",
       "      <td>17</td>\n",
       "      <td>22</td>\n",
       "      <td>6</td>\n",
       "      <td>16</td>\n",
       "      <td>4.0</td>\n",
       "      <td>21553</td>\n",
       "      <td>3</td>\n",
       "      <td>1</td>\n",
       "      <td>both</td>\n",
       "      <td>...</td>\n",
       "      <td>High-range product</td>\n",
       "      <td>Regularly busy</td>\n",
       "      <td>Regularly busy</td>\n",
       "      <td>Most orders</td>\n",
       "      <td>40</td>\n",
       "      <td>Regular customer</td>\n",
       "      <td>108.648299</td>\n",
       "      <td>High spender</td>\n",
       "      <td>5.0</td>\n",
       "      <td>Freqeunt customer</td>\n",
       "    </tr>\n",
       "    <tr>\n",
       "      <th>10030347</th>\n",
       "      <td>3264360</td>\n",
       "      <td>135</td>\n",
       "      <td>2</td>\n",
       "      <td>2</td>\n",
       "      <td>21</td>\n",
       "      <td>13.0</td>\n",
       "      <td>21553</td>\n",
       "      <td>6</td>\n",
       "      <td>0</td>\n",
       "      <td>both</td>\n",
       "      <td>...</td>\n",
       "      <td>High-range product</td>\n",
       "      <td>Regularly busy</td>\n",
       "      <td>Regularly busy</td>\n",
       "      <td>Average orders</td>\n",
       "      <td>4</td>\n",
       "      <td>New customer</td>\n",
       "      <td>1154.792308</td>\n",
       "      <td>High spender</td>\n",
       "      <td>11.5</td>\n",
       "      <td>Regular customer</td>\n",
       "    </tr>\n",
       "    <tr>\n",
       "      <th>10030348</th>\n",
       "      <td>892534</td>\n",
       "      <td>135</td>\n",
       "      <td>3</td>\n",
       "      <td>0</td>\n",
       "      <td>8</td>\n",
       "      <td>12.0</td>\n",
       "      <td>21553</td>\n",
       "      <td>3</td>\n",
       "      <td>1</td>\n",
       "      <td>both</td>\n",
       "      <td>...</td>\n",
       "      <td>High-range product</td>\n",
       "      <td>Busiest day</td>\n",
       "      <td>Busiest days</td>\n",
       "      <td>Average orders</td>\n",
       "      <td>4</td>\n",
       "      <td>New customer</td>\n",
       "      <td>1154.792308</td>\n",
       "      <td>High spender</td>\n",
       "      <td>11.5</td>\n",
       "      <td>Regular customer</td>\n",
       "    </tr>\n",
       "    <tr>\n",
       "      <th>10030349</th>\n",
       "      <td>229704</td>\n",
       "      <td>342</td>\n",
       "      <td>8</td>\n",
       "      <td>1</td>\n",
       "      <td>19</td>\n",
       "      <td>30.0</td>\n",
       "      <td>21553</td>\n",
       "      <td>9</td>\n",
       "      <td>0</td>\n",
       "      <td>both</td>\n",
       "      <td>...</td>\n",
       "      <td>High-range product</td>\n",
       "      <td>Regularly busy</td>\n",
       "      <td>Busiest days</td>\n",
       "      <td>Average orders</td>\n",
       "      <td>16</td>\n",
       "      <td>Regular customer</td>\n",
       "      <td>114.426619</td>\n",
       "      <td>High spender</td>\n",
       "      <td>20.0</td>\n",
       "      <td>Regular customer</td>\n",
       "    </tr>\n",
       "    <tr>\n",
       "      <th>...</th>\n",
       "      <td>...</td>\n",
       "      <td>...</td>\n",
       "      <td>...</td>\n",
       "      <td>...</td>\n",
       "      <td>...</td>\n",
       "      <td>...</td>\n",
       "      <td>...</td>\n",
       "      <td>...</td>\n",
       "      <td>...</td>\n",
       "      <td>...</td>\n",
       "      <td>...</td>\n",
       "      <td>...</td>\n",
       "      <td>...</td>\n",
       "      <td>...</td>\n",
       "      <td>...</td>\n",
       "      <td>...</td>\n",
       "      <td>...</td>\n",
       "      <td>...</td>\n",
       "      <td>...</td>\n",
       "      <td>...</td>\n",
       "      <td>...</td>\n",
       "    </tr>\n",
       "    <tr>\n",
       "      <th>29166209</th>\n",
       "      <td>2249946</td>\n",
       "      <td>204099</td>\n",
       "      <td>29</td>\n",
       "      <td>0</td>\n",
       "      <td>8</td>\n",
       "      <td>4.0</td>\n",
       "      <td>33664</td>\n",
       "      <td>1</td>\n",
       "      <td>0</td>\n",
       "      <td>both</td>\n",
       "      <td>...</td>\n",
       "      <td>High-range product</td>\n",
       "      <td>Busiest day</td>\n",
       "      <td>Busiest days</td>\n",
       "      <td>Average orders</td>\n",
       "      <td>39</td>\n",
       "      <td>Regular customer</td>\n",
       "      <td>1106.743956</td>\n",
       "      <td>High spender</td>\n",
       "      <td>4.0</td>\n",
       "      <td>Freqeunt customer</td>\n",
       "    </tr>\n",
       "    <tr>\n",
       "      <th>29166210</th>\n",
       "      <td>2363282</td>\n",
       "      <td>204099</td>\n",
       "      <td>31</td>\n",
       "      <td>0</td>\n",
       "      <td>9</td>\n",
       "      <td>2.0</td>\n",
       "      <td>33664</td>\n",
       "      <td>1</td>\n",
       "      <td>1</td>\n",
       "      <td>both</td>\n",
       "      <td>...</td>\n",
       "      <td>High-range product</td>\n",
       "      <td>Busiest day</td>\n",
       "      <td>Busiest days</td>\n",
       "      <td>Fewest orders</td>\n",
       "      <td>39</td>\n",
       "      <td>Regular customer</td>\n",
       "      <td>1106.743956</td>\n",
       "      <td>High spender</td>\n",
       "      <td>4.0</td>\n",
       "      <td>Freqeunt customer</td>\n",
       "    </tr>\n",
       "    <tr>\n",
       "      <th>29166211</th>\n",
       "      <td>3181945</td>\n",
       "      <td>204395</td>\n",
       "      <td>13</td>\n",
       "      <td>3</td>\n",
       "      <td>15</td>\n",
       "      <td>8.0</td>\n",
       "      <td>33664</td>\n",
       "      <td>25</td>\n",
       "      <td>0</td>\n",
       "      <td>both</td>\n",
       "      <td>...</td>\n",
       "      <td>High-range product</td>\n",
       "      <td>Regularly busy</td>\n",
       "      <td>Slowest days</td>\n",
       "      <td>Most orders</td>\n",
       "      <td>15</td>\n",
       "      <td>Regular customer</td>\n",
       "      <td>451.153540</td>\n",
       "      <td>High spender</td>\n",
       "      <td>4.0</td>\n",
       "      <td>Freqeunt customer</td>\n",
       "    </tr>\n",
       "    <tr>\n",
       "      <th>29166212</th>\n",
       "      <td>2486215</td>\n",
       "      <td>205227</td>\n",
       "      <td>7</td>\n",
       "      <td>3</td>\n",
       "      <td>20</td>\n",
       "      <td>4.0</td>\n",
       "      <td>33664</td>\n",
       "      <td>8</td>\n",
       "      <td>0</td>\n",
       "      <td>both</td>\n",
       "      <td>...</td>\n",
       "      <td>High-range product</td>\n",
       "      <td>Regularly busy</td>\n",
       "      <td>Slowest days</td>\n",
       "      <td>Average orders</td>\n",
       "      <td>12</td>\n",
       "      <td>Regular customer</td>\n",
       "      <td>1178.381871</td>\n",
       "      <td>High spender</td>\n",
       "      <td>7.0</td>\n",
       "      <td>Freqeunt customer</td>\n",
       "    </tr>\n",
       "    <tr>\n",
       "      <th>29166213</th>\n",
       "      <td>2232716</td>\n",
       "      <td>205227</td>\n",
       "      <td>10</td>\n",
       "      <td>0</td>\n",
       "      <td>11</td>\n",
       "      <td>4.0</td>\n",
       "      <td>33664</td>\n",
       "      <td>23</td>\n",
       "      <td>1</td>\n",
       "      <td>both</td>\n",
       "      <td>...</td>\n",
       "      <td>High-range product</td>\n",
       "      <td>Busiest day</td>\n",
       "      <td>Busiest days</td>\n",
       "      <td>Most orders</td>\n",
       "      <td>12</td>\n",
       "      <td>Regular customer</td>\n",
       "      <td>1178.381871</td>\n",
       "      <td>High spender</td>\n",
       "      <td>7.0</td>\n",
       "      <td>Freqeunt customer</td>\n",
       "    </tr>\n",
       "  </tbody>\n",
       "</table>\n",
       "<p>5127 rows × 24 columns</p>\n",
       "</div>"
      ],
      "text/plain": [
       "         order_id  customer_id  order_number order_dow  order_hour_of_day  \\\n",
       "10030345   912404           17            12         2                 14   \n",
       "10030346   603376           17            22         6                 16   \n",
       "10030347  3264360          135             2         2                 21   \n",
       "10030348   892534          135             3         0                  8   \n",
       "10030349   229704          342             8         1                 19   \n",
       "...           ...          ...           ...       ...                ...   \n",
       "29166209  2249946       204099            29         0                  8   \n",
       "29166210  2363282       204099            31         0                  9   \n",
       "29166211  3181945       204395            13         3                 15   \n",
       "29166212  2486215       205227             7         3                 20   \n",
       "29166213  2232716       205227            10         0                 11   \n",
       "\n",
       "          days_since_prior_order  product_id  add_to_cart_order  reordered  \\\n",
       "10030345                     5.0       21553                  5          0   \n",
       "10030346                     4.0       21553                  3          1   \n",
       "10030347                    13.0       21553                  6          0   \n",
       "10030348                    12.0       21553                  3          1   \n",
       "10030349                    30.0       21553                  9          0   \n",
       "...                          ...         ...                ...        ...   \n",
       "29166209                     4.0       33664                  1          0   \n",
       "29166210                     2.0       33664                  1          1   \n",
       "29166211                     8.0       33664                 25          0   \n",
       "29166212                     4.0       33664                  8          0   \n",
       "29166213                     4.0       33664                 23          1   \n",
       "\n",
       "         _merge  ...     price_range_loc     busiest_day  new_busiest_days  \\\n",
       "10030345   both  ...  High-range product  Regularly busy    Regularly busy   \n",
       "10030346   both  ...  High-range product  Regularly busy    Regularly busy   \n",
       "10030347   both  ...  High-range product  Regularly busy    Regularly busy   \n",
       "10030348   both  ...  High-range product     Busiest day      Busiest days   \n",
       "10030349   both  ...  High-range product  Regularly busy      Busiest days   \n",
       "...         ...  ...                 ...             ...               ...   \n",
       "29166209   both  ...  High-range product     Busiest day      Busiest days   \n",
       "29166210   both  ...  High-range product     Busiest day      Busiest days   \n",
       "29166211   both  ...  High-range product  Regularly busy      Slowest days   \n",
       "29166212   both  ...  High-range product  Regularly busy      Slowest days   \n",
       "29166213   both  ...  High-range product     Busiest day      Busiest days   \n",
       "\n",
       "          busiest_period_of_day max_order      loyalty_flag avg_order_price  \\\n",
       "10030345            Most orders        40  Regular customer      108.648299   \n",
       "10030346            Most orders        40  Regular customer      108.648299   \n",
       "10030347         Average orders         4      New customer     1154.792308   \n",
       "10030348         Average orders         4      New customer     1154.792308   \n",
       "10030349         Average orders        16  Regular customer      114.426619   \n",
       "...                         ...       ...               ...             ...   \n",
       "29166209         Average orders        39  Regular customer     1106.743956   \n",
       "29166210          Fewest orders        39  Regular customer     1106.743956   \n",
       "29166211            Most orders        15  Regular customer      451.153540   \n",
       "29166212         Average orders        12  Regular customer     1178.381871   \n",
       "29166213            Most orders        12  Regular customer     1178.381871   \n",
       "\n",
       "         spending_flag  order_frequency    order_freq_flag  \n",
       "10030345  High spender              5.0  Freqeunt customer  \n",
       "10030346  High spender              5.0  Freqeunt customer  \n",
       "10030347  High spender             11.5   Regular customer  \n",
       "10030348  High spender             11.5   Regular customer  \n",
       "10030349  High spender             20.0   Regular customer  \n",
       "...                ...              ...                ...  \n",
       "29166209  High spender              4.0  Freqeunt customer  \n",
       "29166210  High spender              4.0  Freqeunt customer  \n",
       "29166211  High spender              4.0  Freqeunt customer  \n",
       "29166212  High spender              7.0  Freqeunt customer  \n",
       "29166213  High spender              7.0  Freqeunt customer  \n",
       "\n",
       "[5127 rows x 24 columns]"
      ]
     },
     "execution_count": 21,
     "metadata": {},
     "output_type": "execute_result"
    }
   ],
   "source": [
    "#Exploratory checks on the prices column \n",
    "#What values are above a threshold of 100?\n",
    "ords_prods_merge.loc[ords_prods_merge['prices'] > 100]"
   ]
  },
  {
   "cell_type": "markdown",
   "id": "3de88586",
   "metadata": {},
   "source": [
    "### There are 5,127 rows with outlier observations (prices > 100). Both the 14900 and the 99999 are skewing the charts. First step would be to consult the client about how to treat the values. Mark the values as missing since they do not make sense in terms of other values in the prices column. "
   ]
  },
  {
   "cell_type": "code",
   "execution_count": 29,
   "id": "c3f9c37d",
   "metadata": {},
   "outputs": [],
   "source": [
    "#Turn the outliers into NaN values \n",
    "ords_prods_merge.loc[ords_prods_merge['prices'] > 100, 'prices'] = np.nan"
   ]
  },
  {
   "cell_type": "code",
   "execution_count": 30,
   "id": "20a046b6",
   "metadata": {},
   "outputs": [
    {
     "data": {
      "text/plain": [
       "25.0"
      ]
     },
     "execution_count": 30,
     "metadata": {},
     "output_type": "execute_result"
    }
   ],
   "source": [
    "ords_prods_merge['prices'].max()"
   ]
  },
  {
   "cell_type": "code",
   "execution_count": 31,
   "id": "d3c74341",
   "metadata": {},
   "outputs": [
    {
     "data": {
      "image/png": "[encoded data removed]",
      "text/plain": [
       "<Figure size 640x480 with 1 Axes>"
      ]
     },
     "metadata": {},
     "output_type": "display_data"
    }
   ],
   "source": [
    "#Re-generate the histogram\n",
    "hist = ords_prods_merge['prices'].plot.hist(bins=25)"
   ]
  },
  {
   "cell_type": "markdown",
   "id": "8548d788",
   "metadata": {},
   "source": [
    "### Most products are between 1 and 15 dollars, while a few are higher priced up to 25 dollars. To increase the level of granularity, increase the bins to 70. "
   ]
  },
  {
   "cell_type": "code",
   "execution_count": 32,
   "id": "1dea30e7",
   "metadata": {},
   "outputs": [
    {
     "data": {
      "image/png": "[encoded data removed]",
      "text/plain": [
       "<Figure size 640x480 with 1 Axes>"
      ]
     },
     "metadata": {},
     "output_type": "display_data"
    }
   ],
   "source": [
    "hist_2 = ords_prods_merge['prices'].plot.hist(bins=70)"
   ]
  },
  {
   "cell_type": "code",
   "execution_count": 33,
   "id": "084e895f",
   "metadata": {},
   "outputs": [],
   "source": [
    "#Export the histograms\n",
    "hist.figure.savefig(os.path.join(path, '04 Analysis', 'Visualizations', 'hist_prices.png'))\n",
    "hist_2.figure.savefig(os.path.join(path, '04 Analysis', 'Visualizations', 'hist_2_prices.png'))"
   ]
  },
  {
   "cell_type": "markdown",
   "id": "226744c8",
   "metadata": {},
   "source": [
    "# Creating a random sample from the dataframe "
   ]
  },
  {
   "cell_type": "code",
   "execution_count": 4,
   "id": "17accd06",
   "metadata": {},
   "outputs": [],
   "source": [
    "#70/30 split for creating a random sample \n",
    "np.random.seed(4)\n",
    "dev = np.random.rand(len(ords_prods_merge)) <= 0.7"
   ]
  },
  {
   "cell_type": "markdown",
   "id": "dced48f5",
   "metadata": {},
   "source": [
    "### \"seed\" represents a random but reproducible pattern and Python will always give you the same set of random numbers rather than creating a new pattern of numbers every time you run the command. Your sample needs to be reproducible!! Then in the second line, we created a new list called \"dev\" where the boolean values are stored (0 to 1) and will get an output of True or False if <= to 0.7."
   ]
  },
  {
   "cell_type": "code",
   "execution_count": 5,
   "id": "bf23d66c",
   "metadata": {},
   "outputs": [
    {
     "data": {
      "text/plain": [
       "array([False,  True, False, ...,  True,  True,  True])"
      ]
     },
     "execution_count": 5,
     "metadata": {},
     "output_type": "execute_result"
    }
   ],
   "source": [
    "dev"
   ]
  },
  {
   "cell_type": "markdown",
   "id": "311b5b3f",
   "metadata": {},
   "source": [
    "### The np.random.rand() function creates the list of random floating numbers between 0 and 1. The len(ords_prods_merge) produces a value that represents the length of whatever you put inside it. The output should include 32,404,859 rows (entire dataframe). "
   ]
  },
  {
   "cell_type": "code",
   "execution_count": 7,
   "id": "3aa361fc",
   "metadata": {},
   "outputs": [
    {
     "data": {
      "text/plain": [
       "array([0.0164016 , 0.99588525, 0.68895442, 0.9491469 , 0.63012328,\n",
       "       0.9192488 , 0.87788077, 0.3936537 , 0.64745848, 0.73786691])"
      ]
     },
     "execution_count": 7,
     "metadata": {},
     "output_type": "execute_result"
    }
   ],
   "source": [
    "#Example of using the random function to produce a list of random numbers between 0 and 1. 10 random numbers\n",
    "np.random.rand(10)"
   ]
  },
  {
   "cell_type": "markdown",
   "id": "21fec884",
   "metadata": {},
   "source": [
    "### Created sample dataframes big and small from the ords_prods_merge dataframe. We are storing 70 percent of the dataframe in big and 30 percent in small by using the values in the dev list. The ~ stores everything that is false (or not \"dev\"). "
   ]
  },
  {
   "cell_type": "code",
   "execution_count": 5,
   "id": "04b03a10",
   "metadata": {},
   "outputs": [],
   "source": [
    "#Want to use the list to split the dataframe into two samples\n",
    "big = ords_prods_merge[dev] #stores true values (70%)\n",
    "small = ords_prods_merge[~dev] #stores false values (30%)"
   ]
  },
  {
   "cell_type": "code",
   "execution_count": 6,
   "id": "2239ca1b",
   "metadata": {},
   "outputs": [
    {
     "data": {
      "text/plain": [
       "32404859"
      ]
     },
     "execution_count": 6,
     "metadata": {},
     "output_type": "execute_result"
    }
   ],
   "source": [
    "len(big) + len(small)"
   ]
  },
  {
   "cell_type": "code",
   "execution_count": 8,
   "id": "fdecafc5",
   "metadata": {},
   "outputs": [],
   "source": [
    "#Reduce the samples to only those columns needed for the chart (prices and orders_dow)\n",
    "df_2 = small[['order_dow', 'prices']]"
   ]
  },
  {
   "cell_type": "markdown",
   "id": "a51f2316",
   "metadata": {},
   "source": [
    "# Line Chart using df_2 dataframe"
   ]
  },
  {
   "cell_type": "code",
   "execution_count": 9,
   "id": "3edc2128",
   "metadata": {},
   "outputs": [
    {
     "data": {
      "image/png": "[encoded data removed]",
      "text/plain": [
       "<Figure size 640x480 with 1 Axes>"
      ]
     },
     "metadata": {},
     "output_type": "display_data"
    }
   ],
   "source": [
    "line = sns.lineplot(data = df_2, x = 'order_dow', y = 'prices')"
   ]
  },
  {
   "cell_type": "markdown",
   "id": "69ba82c2",
   "metadata": {},
   "source": [
    "### Saving the line chart as the \"line\" object. Needs arguments: dataframe that you are creating the line chart from df_2, columns for each axis. The peak on day 5 = most money is spent on Thursday. The other peak is on Tuesday. The translucent blue bands around the trend line are called error bands. They represent the chart's confidence intervals. If this line were a prediction, there would be 95% probability that the predicted value would fall within the area of the error bands. "
   ]
  },
  {
   "cell_type": "code",
   "execution_count": 10,
   "id": "0b3c3237",
   "metadata": {},
   "outputs": [],
   "source": [
    "#Export the line chart\n",
    "line.figure.savefig(os.path.join(path, '04 Analysis', 'Visualizations', 'line_prices.png'))"
   ]
  },
  {
   "cell_type": "code",
   "execution_count": null,
   "id": "f2f53f74",
   "metadata": {},
   "outputs": [],
   "source": []
  }
 ],
 "metadata": {
  "kernelspec": {
   "display_name": "Python 3 (ipykernel)",
   "language": "python",
   "name": "python3"
  },
  "language_info": {
   "codemirror_mode": {
    "name": "ipython",
    "version": 3
   },
   "file_extension": ".py",
   "mimetype": "text/x-python",
   "name": "python",
   "nbconvert_exporter": "python",
   "pygments_lexer": "ipython3",
   "version": "3.9.13"
  }
 },
 "nbformat": 4,
 "nbformat_minor": 5
}
