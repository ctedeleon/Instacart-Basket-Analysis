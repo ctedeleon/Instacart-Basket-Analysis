{
 "cells": [
  {
   "cell_type": "markdown",
   "id": "78e4b20c",
   "metadata": {},
   "source": [
    "# 01. Importing Libraries "
   ]
  },
  {
   "cell_type": "code",
   "execution_count": null,
   "id": "4196e641",
   "metadata": {},
   "outputs": [],
   "source": [
    "# Import libraries"
   ]
  },
  {
   "cell_type": "code",
   "execution_count": 6,
   "id": "693c0441",
   "metadata": {},
   "outputs": [],
   "source": [
    "import pandas as pd"
   ]
  },
  {
   "cell_type": "code",
   "execution_count": 5,
   "id": "130d5d58",
   "metadata": {},
   "outputs": [],
   "source": [
    "import numpy as np"
   ]
  },
  {
   "cell_type": "code",
   "execution_count": 4,
   "id": "7d9cf781",
   "metadata": {},
   "outputs": [],
   "source": [
    "import os"
   ]
  },
  {
   "cell_type": "markdown",
   "id": "3cf83770",
   "metadata": {},
   "source": [
    "# 02. Data Types"
   ]
  },
  {
   "cell_type": "code",
   "execution_count": 32,
   "id": "c6ac53b7",
   "metadata": {},
   "outputs": [],
   "source": [
    "# Adding/Subtracting Variables"
   ]
  },
  {
   "cell_type": "code",
   "execution_count": 35,
   "id": "e7226896",
   "metadata": {},
   "outputs": [],
   "source": [
    "x=90"
   ]
  },
  {
   "cell_type": "code",
   "execution_count": 36,
   "id": "12c2c925",
   "metadata": {},
   "outputs": [],
   "source": [
    "y=10"
   ]
  },
  {
   "cell_type": "code",
   "execution_count": 37,
   "id": "537fee6d",
   "metadata": {},
   "outputs": [
    {
     "data": {
      "text/plain": [
       "100"
      ]
     },
     "execution_count": 37,
     "metadata": {},
     "output_type": "execute_result"
    }
   ],
   "source": [
    "x+y"
   ]
  },
  {
   "cell_type": "code",
   "execution_count": 38,
   "id": "12c149d2",
   "metadata": {},
   "outputs": [],
   "source": [
    "z=190"
   ]
  },
  {
   "cell_type": "code",
   "execution_count": 39,
   "id": "f1987cba",
   "metadata": {},
   "outputs": [
    {
     "data": {
      "text/plain": [
       "100"
      ]
     },
     "execution_count": 39,
     "metadata": {},
     "output_type": "execute_result"
    }
   ],
   "source": [
    "z-x"
   ]
  },
  {
   "cell_type": "code",
   "execution_count": 40,
   "id": "71da5309",
   "metadata": {},
   "outputs": [
    {
     "data": {
      "text/plain": [
       "100"
      ]
     },
     "execution_count": 40,
     "metadata": {},
     "output_type": "execute_result"
    }
   ],
   "source": [
    "(y+z)-100"
   ]
  },
  {
   "cell_type": "code",
   "execution_count": 41,
   "id": "1e90756d",
   "metadata": {},
   "outputs": [],
   "source": [
    "# Floating-point Variables"
   ]
  },
  {
   "cell_type": "code",
   "execution_count": 42,
   "id": "d23612ec",
   "metadata": {},
   "outputs": [],
   "source": [
    "f=3.14"
   ]
  },
  {
   "cell_type": "code",
   "execution_count": 43,
   "id": "04c1999c",
   "metadata": {},
   "outputs": [],
   "source": [
    "p=9.80"
   ]
  },
  {
   "cell_type": "code",
   "execution_count": 44,
   "id": "aa4dad52",
   "metadata": {},
   "outputs": [
    {
     "data": {
      "text/plain": [
       "3.121019108280255"
      ]
     },
     "execution_count": 44,
     "metadata": {},
     "output_type": "execute_result"
    }
   ],
   "source": [
    "p/f"
   ]
  },
  {
   "cell_type": "code",
   "execution_count": 45,
   "id": "b1236b00",
   "metadata": {},
   "outputs": [],
   "source": [
    "h='Hi, '"
   ]
  },
  {
   "cell_type": "code",
   "execution_count": 46,
   "id": "a26aa840",
   "metadata": {},
   "outputs": [],
   "source": [
    "m='my '"
   ]
  },
  {
   "cell_type": "code",
   "execution_count": 47,
   "id": "8fc1d2aa",
   "metadata": {},
   "outputs": [],
   "source": [
    "n='name '"
   ]
  },
  {
   "cell_type": "code",
   "execution_count": 48,
   "id": "408b1e4b",
   "metadata": {},
   "outputs": [],
   "source": [
    "i='is '"
   ]
  },
  {
   "cell_type": "code",
   "execution_count": 49,
   "id": "4fd386d4",
   "metadata": {},
   "outputs": [],
   "source": [
    "t='Christina. '"
   ]
  },
  {
   "cell_type": "code",
   "execution_count": 50,
   "id": "36ee024a",
   "metadata": {},
   "outputs": [],
   "source": [
    "w='What is your name?'"
   ]
  },
  {
   "cell_type": "code",
   "execution_count": 51,
   "id": "8027f5ca",
   "metadata": {},
   "outputs": [
    {
     "data": {
      "text/plain": [
       "'Hi, my name is Christina. What is your name?'"
      ]
     },
     "execution_count": 51,
     "metadata": {},
     "output_type": "execute_result"
    }
   ],
   "source": [
    "h+m+n+i+t+w"
   ]
  },
  {
   "cell_type": "code",
   "execution_count": 52,
   "id": "3d377858",
   "metadata": {},
   "outputs": [
    {
     "data": {
      "text/plain": [
       "'Hi, my name is Christina. '"
      ]
     },
     "execution_count": 52,
     "metadata": {},
     "output_type": "execute_result"
    }
   ],
   "source": [
    "h+m+n+i+t"
   ]
  },
  {
   "cell_type": "code",
   "execution_count": 53,
   "id": "6f30df65",
   "metadata": {},
   "outputs": [
    {
     "data": {
      "text/plain": [
       "'my my my my my my my my my my my my my my my my my my my my my my my my my my my my my my my my my my my my my my my my my my my my my my my my my my my my my my my my my my my my my my my my my my my my my my my my my my my my my my my my my my my my my my my my my my my my my my my my my my my my '"
      ]
     },
     "execution_count": 53,
     "metadata": {},
     "output_type": "execute_result"
    }
   ],
   "source": [
    "m*100"
   ]
  },
  {
   "cell_type": "code",
   "execution_count": null,
   "id": "ff71f4ee",
   "metadata": {},
   "outputs": [],
   "source": []
  }
 ],
 "metadata": {
  "kernelspec": {
   "display_name": "Python 3 (ipykernel)",
   "language": "python",
   "name": "python3"
  },
  "language_info": {
   "codemirror_mode": {
    "name": "ipython",
    "version": 3
   },
   "file_extension": ".py",
   "mimetype": "text/x-python",
   "name": "python",
   "nbconvert_exporter": "python",
   "pygments_lexer": "ipython3",
   "version": "3.9.13"
  }
 },
 "nbformat": 4,
 "nbformat_minor": 5
}
