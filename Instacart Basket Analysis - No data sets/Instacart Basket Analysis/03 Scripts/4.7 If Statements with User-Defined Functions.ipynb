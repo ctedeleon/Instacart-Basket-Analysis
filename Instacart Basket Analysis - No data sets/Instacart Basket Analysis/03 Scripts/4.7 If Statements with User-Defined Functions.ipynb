{
 "cells": [
  {
   "cell_type": "markdown",
   "id": "3aa76519",
   "metadata": {},
   "source": [
    "# Import libraries and merged data"
   ]
  },
  {
   "cell_type": "code",
   "execution_count": 1,
   "id": "cc675538",
   "metadata": {},
   "outputs": [],
   "source": [
    "import pandas as pd\n",
    "import numpy as np \n",
    "import os \n",
    "\n",
    "path = r'C:\\Users\\ctede\\OneDrive\\Desktop\\Instacart Basket Analysis'\n",
    "df_ords_prods_merged = pd.read_pickle(os.path.join(path, '02 Data', 'Prepared Data', 'orders_products_merged.pkl'))"
   ]
  },
  {
   "cell_type": "markdown",
   "id": "75f01195",
   "metadata": {},
   "source": [
    "## Create a subset for the merged dataframe (first one million rows) "
   ]
  },
  {
   "cell_type": "code",
   "execution_count": 2,
   "id": "8bbe5f14",
   "metadata": {},
   "outputs": [],
   "source": [
    "#Subset of ords_prods_merged\n",
    "df = df_ords_prods_merged[:1000000]"
   ]
  },
  {
   "cell_type": "code",
   "execution_count": 4,
   "id": "9b77ce41",
   "metadata": {},
   "outputs": [],
   "source": [
    "#Colon syntax: number before the colon = indicates that the subset would include everything starting from that number\n",
    "#until the end of the dataframe \n",
    "#If do [:1000000] then the subset should include everything starting from the beginning of the dataframe up to that number"
   ]
  },
  {
   "cell_type": "markdown",
   "id": "befe45b7",
   "metadata": {},
   "source": [
    "### Code for the first criteria: price less than or equal to $5"
   ]
  },
  {
   "cell_type": "code",
   "execution_count": 7,
   "id": "6733e156",
   "metadata": {},
   "outputs": [],
   "source": [
    "#price is lower than or equal to $5 \"low-range product\"\n",
    "#def price_label(row): --> defining a new function and naming it \"price_label\" \n",
    "#if row['prices'] <= 5: return 'Low-range product' "
   ]
  },
  {
   "cell_type": "markdown",
   "id": "5c6823b0",
   "metadata": {},
   "source": [
    "#### \"row\" standard argument telling the function to look at each row within the dataframe. The colon \":\" (then) at the end is what separates the head, where you provide the name and argument(s) for the function, from the body. \"If the value in the 'prices' column within the given row is less than or equal to 5, then returnt he string 'Low-range product'. "
   ]
  },
  {
   "cell_type": "markdown",
   "id": "385d5c85",
   "metadata": {},
   "source": [
    "### Code for second criteria: price is greater than 5 but less than 15 "
   ]
  },
  {
   "cell_type": "code",
   "execution_count": 6,
   "id": "f0a6a41b",
   "metadata": {},
   "outputs": [],
   "source": [
    "#elif (row ['prices'] > 5) and (row ['prices'] <= 15):\n",
    "#return 'Mid-range product'"
   ]
  },
  {
   "cell_type": "markdown",
   "id": "6753d9d7",
   "metadata": {},
   "source": [
    "#### Using if-statements literally by way of if-else constructs. If-statements tell a function to determine \"if\" something is true and if so, to perform some operation. \"Else if the value in the 'prices' column within the given row is greater than 5 and the value in the 'prices' column within the given row is less than or equal to 15.\" "
   ]
  },
  {
   "cell_type": "code",
   "execution_count": 3,
   "id": "5a0d4ac6",
   "metadata": {},
   "outputs": [],
   "source": [
    "def price_label(row):\n",
    "    if row['prices'] <= 5: \n",
    "        return 'Low-range product'\n",
    "    elif (row['prices'] > 5) and (row['prices'] <= 15):\n",
    "        return 'Mid-range product'\n",
    "    elif (row['prices']) > 15: \n",
    "         return 'High-range product'\n",
    "    else: return 'Not enough data'#encompasses any other possible situation that falls outside of the criteria"
   ]
  },
  {
   "cell_type": "markdown",
   "id": "5d86245a",
   "metadata": {},
   "source": [
    "### The new function is called 'price_label' and now can apply it to every row of the dataframe to designate the price range as low, mid, or high. Now use the function price_label: "
   ]
  },
  {
   "cell_type": "code",
   "execution_count": 4,
   "id": "6d8d841e",
   "metadata": {},
   "outputs": [
    {
     "name": "stderr",
     "output_type": "stream",
     "text": [
      "C:\\Users\\ctede\\AppData\\Local\\Temp\\ipykernel_15372\\2414820574.py:1: SettingWithCopyWarning: \n",
      "A value is trying to be set on a copy of a slice from a DataFrame.\n",
      "Try using .loc[row_indexer,col_indexer] = value instead\n",
      "\n",
      "See the caveats in the documentation: https://pandas.pydata.org/pandas-docs/stable/user_guide/indexing.html#returning-a-view-versus-a-copy\n",
      "  df['price_range'] = df.apply(price_label, axis =1)\n"
     ]
    }
   ],
   "source": [
    "df['price_range'] = df.apply(price_label, axis =1)\n",
    "#creates a new column within the df dataframe called 'price_range' and designates it as the location for your labels"
   ]
  },
  {
   "cell_type": "markdown",
   "id": "61311808",
   "metadata": {},
   "source": [
    "### df.apply(price_label, axis = 1) is the ccode that actually runs the new function. Tells Python to apply the price_label function on axis =1 (which stands for \"rows\"). If axis =0 then it tells Python to apply on all columns. "
   ]
  },
  {
   "cell_type": "code",
   "execution_count": 5,
   "id": "f0badf6c",
   "metadata": {},
   "outputs": [
    {
     "data": {
      "text/plain": [
       "Mid-range product    756450\n",
       "Low-range product    243550\n",
       "Name: price_range, dtype: int64"
      ]
     },
     "execution_count": 5,
     "metadata": {},
     "output_type": "execute_result"
    }
   ],
   "source": [
    "#Show counts of how many low, mid, and high range products there are in the subset dataframe \n",
    "df['price_range'].value_counts(dropna = False)"
   ]
  },
  {
   "cell_type": "markdown",
   "id": "b8bb0c6c",
   "metadata": {},
   "source": [
    "### There are no rows in the high-range product label = means there are no products within the dataframe > $15"
   ]
  },
  {
   "cell_type": "code",
   "execution_count": 6,
   "id": "246c5132",
   "metadata": {},
   "outputs": [
    {
     "data": {
      "text/plain": [
       "14.8"
      ]
     },
     "execution_count": 6,
     "metadata": {},
     "output_type": "execute_result"
    }
   ],
   "source": [
    "#Show the most expensive product within the subset dataframe (show max value in the prices column)\n",
    "df['prices'].max()"
   ]
  },
  {
   "cell_type": "code",
   "execution_count": null,
   "id": "1b621eab",
   "metadata": {},
   "outputs": [],
   "source": []
  }
 ],
 "metadata": {
  "kernelspec": {
   "display_name": "Python 3 (ipykernel)",
   "language": "python",
   "name": "python3"
  },
  "language_info": {
   "codemirror_mode": {
    "name": "ipython",
    "version": 3
   },
   "file_extension": ".py",
   "mimetype": "text/x-python",
   "name": "python",
   "nbconvert_exporter": "python",
   "pygments_lexer": "ipython3",
   "version": "3.9.13"
  }
 },
 "nbformat": 4,
 "nbformat_minor": 5
}
